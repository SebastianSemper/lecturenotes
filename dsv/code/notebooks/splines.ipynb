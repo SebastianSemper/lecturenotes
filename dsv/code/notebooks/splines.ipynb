{
 "cells": [
  {
   "cell_type": "code",
   "execution_count": 1,
   "id": "869bb3d1-9bb7-4c8b-baea-9a0cadd51ff1",
   "metadata": {},
   "outputs": [],
   "source": [
    "import numpy as np\n",
    "import matplotlib.pyplot as plt"
   ]
  },
  {
   "cell_type": "code",
   "execution_count": 2,
   "id": "c50aa1e5-72ea-45d9-a81c-cfe8db79edd0",
   "metadata": {},
   "outputs": [],
   "source": [
    "def filter_coeffs(x_n: np.ndarray) -> np.ndarray:\n",
    "    z_1: float = np.sqrt(3) - 2.0\n",
    "    c_k_p: np.ndarray = np.zeros_like(x_n)\n",
    "    c_k_m: np.ndarray = np.zeros_like(x_n)\n",
    "\n",
    "    c_k_p[0] = np.sum(\n",
    "        x_n * np.power(z_1, np.arange(x_n.size))\n",
    "    )\n",
    "\n",
    "    for kk in range(1, x_n.size):\n",
    "        c_k_p[kk] = x_n[kk] + z_1 * c_k_p[kk - 1]\n",
    "\n",
    "    c_k_m[-1] = (\n",
    "        z_1\n",
    "        * (c_k_p[-1] + z_1 * c_k_p[-2])\n",
    "        / (1.0 - z_1**2)\n",
    "    )\n",
    "\n",
    "    for kk in range(2, x_n.size + 1):\n",
    "        c_k_m[-kk] = z_1 * (\n",
    "            c_k_m[-kk + 1] + c_k_p[-kk]\n",
    "        )\n",
    "\n",
    "    return -6 * c_k_m"
   ]
  },
  {
   "cell_type": "code",
   "execution_count": 3,
   "id": "b3eef9f1-e73e-4b84-a7e3-f197e634729a",
   "metadata": {},
   "outputs": [],
   "source": [
    "def cubic_spline(t: np.ndarray) -> np.ndarray:\n",
    "    s1: np.ndarray = (\n",
    "        2.0 / 3.0\n",
    "        - np.abs(t) ** 2\n",
    "        + 0.5 * np.abs(t) ** 3\n",
    "    )\n",
    "    s2: np.ndarray = (2 - np.abs(t)) ** 3 / 6\n",
    "    s3: np.ndarray = np.zeros_like(t)\n",
    "    return (\n",
    "        s3\n",
    "        + s1 * (np.abs(t) < 1)\n",
    "        + s2 * (np.abs(np.abs(t) - 1.5) <= 0.5)\n",
    "    )"
   ]
  },
  {
   "cell_type": "code",
   "execution_count": 4,
   "id": "fd992c64-0010-41cf-b357-74f43469ef13",
   "metadata": {},
   "outputs": [],
   "source": [
    "def spline_expansion(c: np.ndarray, t: np.ndarray) -> np.ndarray:\n",
    "    out = np.zeros_like(t)\n",
    "    t = np.mod(t, len(c))\n",
    "    \n",
    "    for ii, tt in enumerate(t):\n",
    "        index = np.floor(tt) + np.arange(-1,3)\n",
    "        fraction = tt - np.floor(tt)\n",
    "        weights = cubic_spline(fraction - np.arange(-1,3))\n",
    "        pp = np.mod(index.astype(int), len(c))\n",
    "        coeffs = c[pp]\n",
    "        out[ii] = np.sum(coeffs * weights)\n",
    "    return out"
   ]
  },
  {
   "cell_type": "code",
   "execution_count": 10,
   "id": "78aa39d5-c9b1-43e1-a958-b046e93c728a",
   "metadata": {},
   "outputs": [
    {
     "data": {
      "image/png": "[encoded data removed]",
      "text/plain": [
       "<Figure size 432x288 with 1 Axes>"
      ]
     },
     "metadata": {
      "needs_background": "light"
     },
     "output_type": "display_data"
    }
   ],
   "source": [
    "# generate some random samples and plot them\n",
    "n = np.arange(8)\n",
    "signal_samples = np.random.rand(8) / 4\n",
    "#signal_samples = np.zeros_like(n).astype(float)\n",
    "#signal_samples[2] = 1\n",
    "\n",
    "spline_coeffs = filter_coeffs(signal_samples)\n",
    "\n",
    "t = np.linspace(0, 8, 100, endpoint=False)\n",
    "spline = spline_expansion(spline_coeffs, t)\n",
    "\n",
    "plt.stem(n, signal_samples, label=\"signal\")\n",
    "plt.stem(n, spline_coeffs, label=\"coeffs\", markerfmt=\"xg\")\n",
    "plt.plot(t, spline, label=\"signal as spline\")\n",
    "# plt.plot(t, cubic_spline(t), label=\"cubic spline\")\n",
    "\n",
    "plt.legend()\n",
    "plt.show()"
   ]
  },
  {
   "cell_type": "code",
   "execution_count": null,
   "id": "7cc37363-a023-49c2-a9b9-697f768c1555",
   "metadata": {},
   "outputs": [],
   "source": []
  },
  {
   "cell_type": "code",
   "execution_count": null,
   "id": "145716d1-57ec-4bfb-b47c-cccb738e356e",
   "metadata": {},
   "outputs": [],
   "source": []
  }
 ],
 "metadata": {
  "kernelspec": {
   "display_name": "Python 3 (ipykernel)",
   "language": "python",
   "name": "python3"
  },
  "language_info": {
   "codemirror_mode": {
    "name": "ipython",
    "version": 3
   },
   "file_extension": ".py",
   "mimetype": "text/x-python",
   "name": "python",
   "nbconvert_exporter": "python",
   "pygments_lexer": "ipython3",
   "version": "3.9.7"
  }
 },
 "nbformat": 4,
 "nbformat_minor": 5
}
