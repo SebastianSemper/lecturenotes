{
 "cells": [
  {
   "cell_type": "markdown",
   "id": "181476f2-191d-4970-b8c8-5c6696875471",
   "metadata": {},
   "source": [
    "# FFT via Split-Radix2\n",
    "\n",
    "Wir wollen uns heute einmal mit dem Algorithmus beschäftigen, der überhaupt moderne Signalverarbeitung möglich macht -- die Implementierung der DFT durch die FFT. Er wurde zuerst 1876 von Carl Friedrich Gauß entwickelt und publiziert. Wurde dann jedoch vergessen und erst 160 Jahre später von Cooley und Tukey neu entdeckt. Der Einfachheit halber beschränken wir uns hierbei auf Anwendung auf Signale, deren Länge eine Potenz von $2$ ist.\n",
    "\n",
    "Die DFT $X[k]$ einer Sequenz $x[n]$ der Länge $N$ wird berechnet via\n",
    "$$\n",
    "X[k] = \\sum_{n=0}^{N-1} x[n] \\exp\\left(-\\frac{2\\pi \\jmath n k}{N}\\right).\n",
    "$$"
   ]
  },
  {
   "cell_type": "markdown",
   "id": "749f8f77-c77b-455f-9672-451be8d26b9f",
   "metadata": {},
   "source": [
    "## Referenzimplementierung\n",
    "\n",
    "Zunächst benötigen wir eine geeignete Referenzimplementierung, von der wir leicht ableiten können, dass sie korrekt ist. Diese benutzen wir als Test für unsere eigenen Versionen. Hierbei verlassen wir uns auf `numpy` und hoffen, dass deren Implementierung zuverlässig funktioniert. Unten rufen wir also `np.fft.fft` auf und schreiben gleichzeitig eine kleine Funktion, welche uns ein bisschen das Testen selbst automatisiert."
   ]
  },
  {
   "cell_type": "code",
   "execution_count": null,
   "id": "0df2d386-e6f8-424a-a421-0c74cf0209cc",
   "metadata": {},
   "outputs": [],
   "source": [
    "import numpy as np\n",
    "from typing import Callable\n",
    "\n",
    "def reference(inputSequence: np.ndarray) -> np.ndarray:\n",
    "    outputSequence = \"XXXX\"\n",
    "    \n",
    "    return outputSequence\n",
    "\n",
    "def test(implementation: Callable[[np.ndarray], np.ndarray]):\n",
    "    testLength = 16\n",
    "    testVector = np.random.randn(testLength) + np.random.randn(testLength)\n",
    "    try:\n",
    "        assert np.allclose(implementation(testVector), reference(testVector))\n",
    "    except AssertionError:\n",
    "        print(\"Wrong Implementation\")"
   ]
  },
  {
   "cell_type": "markdown",
   "id": "6e31bb11-8574-4dde-9344-9414b351c355",
   "metadata": {},
   "source": [
    "## Naive Implementierung\n",
    "\n",
    "Als erstes sollten wir versuchen, die naive Version zu realisieren, welche gegeben $x[n]$ die Folge $X[k]$ basierend auf einfacher Summation für einzelne $k$ berechnet. Die Berechnung folgt also direkt aus der Definition der DFT.\n",
    "\n",
    "**Aufgabe:** \n",
    " \n",
    " - Schreiben Sie eine Funktion basierend auf der Definition der DFT.\n",
    " - Welche Laufzeitkomplexität hat dieser Algorithmus?\n",
    " - Nutzen Sie den bereitgestellten Test für die Überprüfung auf Korrektheit.\n",
    " - Testen Sie den Test, indem sie eine Funktion schreiben, für welche der Test scheitert."
   ]
  },
  {
   "cell_type": "code",
   "execution_count": null,
   "id": "92338865-a606-47ac-8cc7-2194dc254dfc",
   "metadata": {},
   "outputs": [],
   "source": [
    "def naive(inputSequence: np.ndarray) -> np.ndarray:\n",
    "    outputSequence = \"XXXX\"\n",
    "    \n",
    "    return outputSequence\n",
    "\n",
    "test(naive)\n",
    "\n",
    "def naive_wrong(inputSequence: np.ndarray) -> np.ndarray:\n",
    "    outputSequence = \"XXXX\"\n",
    "    \n",
    "    return outputSequence\n",
    "\n",
    "test(naive_wrong)\n"
   ]
  },
  {
   "cell_type": "markdown",
   "id": "a0b3fecf-6720-4561-835c-3d00027ff8c1",
   "metadata": {},
   "source": [
    "## Matrix-Vektor-Multiplikation\n",
    "\n",
    "Eine erste und hoffentlich etwas schnellere Variante ist die Implementierung als Matrix-Vektor-Produkt. Hierzu nutzen wir einen kleinen Python-Trick, der es uns erlaubt Python-Objekte `Callable` zu machen. Dies hat den Vorteil, dass wir die DFT-Matrix nur einmal berechnen müssen und für die eigentliche Berechnung auf die fertige Matrix zugreifen können.\n",
    "\n",
    "**Aufgabe:** \n",
    " \n",
    " - Implementieren Sie eine Klasse, die bei Initialisierung die DFT-Matrix vorberechnet.\n",
    " - Welche Laufzeitkomplexität hat dieser Algorithmus? Speicherbedarf?\n",
    " - Testen Sie Ihre Implementierung für $n=16$."
   ]
  },
  {
   "cell_type": "code",
   "execution_count": null,
   "id": "80480cf9-218f-41f0-98d5-267119acaaed",
   "metadata": {},
   "outputs": [],
   "source": [
    "class matrix:\n",
    "    def __call__(self, inputSequence: np.ndarray) -> np.ndarray:\n",
    "        outputSequence = \"XXXX\"\n",
    "        return outputSequence\n",
    "    \n",
    "    def __init__(self, length: int):\n",
    "        self._matrix = \"XXXX\"\n",
    "\n",
    "dft16 = matrix(16)\n",
    "test(dft16)"
   ]
  },
  {
   "cell_type": "markdown",
   "id": "7da4254a-7532-4a6f-9aac-12271a61bc9f",
   "metadata": {},
   "source": [
    "## Einzelner Split-Radix\n",
    "\n",
    "Die wichtigste Idee bei Split-Radix ist die Umsortierung der Summation in der naiven Formel der DFT. Wir teilen die Summe in die Summanden für $n = 2m$ und $n = 2m+1$ aus. Also gerade und ungerade Indices der Sequenz $x[n]$. Nach Umsortieren erhalten wir\n",
    "$$\n",
    "\\begin{matrix} X[k] & =\n",
    "& \\sum \\limits_{m=0}^{N/2-1} x[2m] \\exp\\left(-\\frac{2\\pi \\jmath}{N} (2m)k\\right) \n",
    "+ \\sum \\limits_{m=0}^{N/2-1} x[2m+1] \\exp\\left(-\\frac{2\\pi \\jmath}{N} (2m+1)k\\right)\n",
    "  \\end{matrix}.\n",
    "$$\n",
    "Nach Ausklammern im zweiten Summanden ergibt sich\n",
    "$$\n",
    "\\begin{matrix} X[k] & =\n",
    "& \\sum \\limits_{m=0}^{N/2-1} x[2m] \\exp\\left(-\\frac{2\\pi \\jmath mk }{N/2} \\right) \n",
    "+  \\exp\\left(-\\frac{2\\pi \\jmath k}{N}\\right) \\sum \\limits_{m=0}^{N/2-1} x[2m+1] \\exp\\left(-\\frac{2\\pi \\jmath mk}{N/2} \\right)\n",
    "  \\end{matrix}.\n",
    "$$\n",
    "Definieren wir $e[m] = x[2m]$ und $o[m] = x[2m+1]$, dann erhalten wir zunächst für $k = 1,\\dots,N/2$\n",
    "$$\n",
    "X[k] = E[k] + \\exp\\left(-\\frac{2\\pi \\jmath k}{N}\\right) O[k].\n",
    "$$\n",
    "Dies ist der Tatsache geschuldet, dass $e[m]$ und $o[m]$ Sequenzen der Länge $N/2$ sind. Wir haben aber durch die Periodizität der komplexen $e$-Funktion auch gegeben, dass:\n",
    "$$\n",
    "X[k + N/2] = E[k] - \\exp\\left(-\\frac{2\\pi \\jmath k}{N}\\right) O[k].\n",
    "$$\n",
    "Dies erlaubt es uns nun die DFT eines Vektors der Länge $N$ durch zwei DFTs der Länge $N/2$ darzustellen.\n",
    "**Aufgabe:** \n",
    " \n",
    " - Implementieren Sie eine Funktion, welche einen Schritt des Split-Radix-Algorithmus implementiert indem es ihre Version von `naive` benutzt, um die DFTs für Größen $n/2$ zu berechnen.\n",
    " - Welche Laufzeitkomplexität hat dieser Algorithmus?\n",
    " - Testen Sie Ihre Implementierung für $n=16$."
   ]
  },
  {
   "cell_type": "code",
   "execution_count": null,
   "id": "92f63db7-5249-4b26-a2d3-430a2c38e6e4",
   "metadata": {},
   "outputs": [],
   "source": [
    "def single_split_radix(inputSequence: np.ndarray) -> np.ndarray:    \n",
    "    outputSequence1 = \"XXXX\"\n",
    "    outputSequence2 = \"XXXX\"\n",
    "    \n",
    "    return np.concatenate([outputSequence1, outputSequence2])\n",
    "\n",
    "test(single_split_radix)"
   ]
  },
  {
   "cell_type": "markdown",
   "id": "d6dd845d-25ba-455f-b284-144c5928fb2f",
   "metadata": {},
   "source": [
    "## Rekursiver Split-Radix\n",
    "\n",
    "Da wir davon ausgehen, dass unsere Sequenzen immer Länge $n = 2^L$ erfüllen, können wir `single_split_radix` auch so modifizieren, dass es für Längen $n > 2$ sich selbst aufruft, um die DFT der geraden und ungeraden Sequenzen wieder mit derselben Funktion berechnet werden. Um Rekursion zu verstehen, muss man zunächst Rekursion verstehen...\n",
    "\n",
    "**Aufgabe:**\n",
    " \n",
    " - Modifizieren Sie `single_split_radix` so, dass es sich selbst rekursiv aufrufen kann.\n",
    " - Implementieren Sie die DFT rekursiv.\n",
    " - Welche Rechenkomplexität ergibt sich nun?"
   ]
  },
  {
   "cell_type": "code",
   "execution_count": null,
   "id": "8aa6a369-49fc-421d-a502-2a33527bcb85",
   "metadata": {},
   "outputs": [],
   "source": [
    "def split_radix(inputSequence: np.ndarray) -> np.ndarray:\n",
    "    \"XXXX\"\n",
    "\n",
    "test(split_radix)"
   ]
  },
  {
   "cell_type": "markdown",
   "id": "d470d49d-1d38-4fe2-904f-d46ec7e04f65",
   "metadata": {},
   "source": [
    "## Benchmarking\n",
    "\n",
    "Wir rufen nun einfach all unsere Implementierungen für verschiedene Problemgrößen auf und vergleichen die Laufzeiten."
   ]
  },
  {
   "cell_type": "code",
   "execution_count": null,
   "id": "3d92480a-91b7-4d62-96b4-ca0458ca13b6",
   "metadata": {},
   "outputs": [],
   "source": [
    "import timeit\n",
    "\n",
    "sizes = 2 ** np.arange(8)\n",
    "\n",
    "def bench(fun: Callable) -> float:\n",
    "    fun()\n",
    "    return np.mean(timeit.repeat(fun, repeat=5, number=10)) / 10\n",
    "\n",
    "ref_times = []\n",
    "nav_times = []\n",
    "dft_times = []\n",
    "sng_times = []\n",
    "srd_times = []\n",
    "\n",
    "for ss in sizes:\n",
    "    print(f\"Benchmarking size n={ss}\")\n",
    "    x = np.random.randn(ss) + 1j * np.random.randn(ss)\n",
    "    \n",
    "    def ref():\n",
    "        reference(x)\n",
    "        \n",
    "    def nav():\n",
    "        naive(x)\n",
    "        \n",
    "    dft_ss = matrix(ss)\n",
    "    def dft():\n",
    "        dft_ss(x)\n",
    "        \n",
    "    def sng():\n",
    "        single_split_radix(x)\n",
    "        \n",
    "    def srd():\n",
    "        split_radix(x)\n",
    "    \n",
    "    ref_times.append(bench(ref))\n",
    "    nav_times.append(bench(nav))\n",
    "    dft_times.append(bench(dft))\n",
    "    sng_times.append(bench(sng))\n",
    "    srd_times.append(bench(srd))\n",
    "    "
   ]
  },
  {
   "cell_type": "code",
   "execution_count": null,
   "id": "c2c445e3-8fa2-4a9a-8e04-19252dc019db",
   "metadata": {},
   "outputs": [],
   "source": [
    "import matplotlib.pyplot as plt\n",
    "plt.rcParams['figure.figsize'] = [16, 9]\n",
    "plt.loglog(sizes, ref_times, label=\"reference\")\n",
    "plt.loglog(sizes, nav_times, label=\"naive\")\n",
    "plt.loglog(sizes, dft_times, label=\"dft\")\n",
    "plt.loglog(sizes, sng_times, label=\"single split radix\")\n",
    "plt.loglog(sizes, srd_times, label=\"split radix\")\n",
    "plt.grid(True)\n",
    "plt.legend()\n",
    "plt.show()"
   ]
  }
 ],
 "metadata": {
  "kernelspec": {
   "display_name": "Python 3 (ipykernel)",
   "language": "python",
   "name": "python3"
  },
  "language_info": {
   "codemirror_mode": {
    "name": "ipython",
    "version": 3
   },
   "file_extension": ".py",
   "mimetype": "text/x-python",
   "name": "python",
   "nbconvert_exporter": "python",
   "pygments_lexer": "ipython3",
   "version": "3.9.7"
  }
 },
 "nbformat": 4,
 "nbformat_minor": 5
}
